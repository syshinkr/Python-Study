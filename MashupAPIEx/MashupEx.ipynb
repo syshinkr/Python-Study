{
 "cells": [
  {
   "cell_type": "code",
   "execution_count": 1,
   "metadata": {
    "collapsed": true
   },
   "outputs": [
    {
     "data": {
      "text/plain": [
       "{'documents': [{'authors': ['윤웅식'],\n   'barcode': 'BOK00027044995YE',\n   'category': '컴퓨터/IT',\n   'contents': '이 책이 제시하는 핵심 내용 Git과 GitHub를 이용한 버전 관리 시스템을 다루는 방법을 배우는 입문서다. 1부는 버전 관리 시스템과 Git 고유의 명령어 중심으로 Git의 기본 개념을 배운다...',\n   'datetime': '2015-08-20T00:00:00.000+09:00',\n   'ebook_barcode': 'DGT4808968482021',\n   'isbn': '8968482020 9788968482021',\n   'price': 28000,\n   'publisher': '한빛미디어',\n   'sale_price': 25200,\n   'sale_yn': 'Y',\n   'status': '정상판매',\n   'thumbnail': 'http://t1.daumcdn.net/thumb/R72x100/?fname=http%3A%2F%2Ft1.daumcdn.net%2Fbook%2FBOK00027044995YE%3Fmoddttm=20180914091220',\n   'title': '만들면서 배우는 Git + GitHub 입문',\n   'translators': [],\n   'url': 'http://book.daum.net/detail/book.do?bookid=BOK00027044995YE'},\n  {'authors': ['윤웅식'],\n   'barcode': 'BOK00033615751BA',\n   'category': '컴퓨터/IT',\n   'contents': '프로그래밍 언어를 배웠다면 이 책으로 파이썬을 공부하자 이 책은 다른 프로그래밍 언어를 배운 적 있는 개발자가 파이썬 3를 빠르게 배울 수 있게 도와준다. 꼭 필요한 핵심 문법만 간략히...',\n   'datetime': '2017-11-01T00:00:00.000+09:00',\n   'ebook_barcode': 'DGT00033970535AL',\n   'isbn': '1162240202 9791162240205',\n   'price': 20000,\n   'publisher': '한빛미디어',\n   'sale_price': 18000,\n   'sale_yn': 'Y',\n   'status': '정상판매',\n   'thumbnail': 'http://t1.daumcdn.net/thumb/R72x100/?fname=http%3A%2F%2Ft1.daumcdn.net%2Fbook%2FBOK00033615751BA%3Fmoddttm=20180914091220',\n   'title': '개발자를 위한 파이썬',\n   'translators': [],\n   'url': 'http://book.daum.net/detail/book.do?bookid=BOK00033615751BA'},\n  {'authors': ['윤웅식'],\n   'barcode': '',\n   'category': '',\n   'contents': '',\n   'datetime': '2017-11-20T00:00:00.000+09:00',\n   'ebook_barcode': 'DGT00033970536YE',\n   'isbn': ' 9791162249895',\n   'price': 14000,\n   'publisher': '한빛미디어',\n   'sale_price': 14000,\n   'sale_yn': 'Y',\n   'status': '정상판매',\n   'thumbnail': '',\n   'title': '개발자를 위한 파이썬',\n   'translators': [],\n   'url': 'http://book.daum.net/detail/book.do?bookid='}],\n 'meta': {'is_end': True, 'pageable_count': 3, 'total_count': 3}}"
      ]
     },
     "execution_count": 1,
     "metadata": {},
     "output_type": "execute_result"
    }
   ],
   "source": [
    "import requests\n",
    "import json\n",
    "\n",
    "url = \"https://dapi.kakao.com/v2/search/book\"\n",
    "queryStr = {\"query\": \"윤웅식\"}\n",
    "REST_API_KEY = \"a584a334266226c73c6968497cb13c7b\"\n",
    "header = {'authorization': f'KakaoAK {REST_API_KEY}'}\n",
    "r = requests.get(url, headers=header, params=queryStr)\n",
    "\n",
    "# is_end : 현재 페이지가 마지막 페이지인지 여부. false면 page를 증가시켜 다음 페이지를 요청할 수 있음\n",
    "# pageable_count : total_count 중 노출가능 문서수\n",
    "# total_count : 검색어에 검색된 문서수\n",
    "json.loads(r.text)"
   ]
  },
  {
   "cell_type": "code",
   "execution_count": 2,
   "metadata": {},
   "outputs": [
    {
     "data": {
      "text/plain": [
       "{'lastBuildDate': 'Fri, 14 Sep 2018 19:24:34 +0900',\n 'total': 2,\n 'start': 1,\n 'display': 2,\n 'items': [{'title': '개발자를 위한 파이썬 (현장에서 일하는 개발자 맞춤 입문서)',\n   'link': 'http://book.naver.com/bookdb/book_detail.php?bid=12706439',\n   'image': 'https://bookthumb-phinf.pstatic.net/cover/127/064/12706439.jpg?type=m1&udate=20180426',\n   'author': '<b>윤웅식</b>',\n   'price': '20000',\n   'discount': '18000',\n   'publisher': '한빛미디어',\n   'pubdate': '20171101',\n   'isbn': '1162240202 9791162240205',\n   'description': '프로그래밍 언어를 배웠다면 이 책으로 파이썬을 공부하자\\n\\n이 책은 다른 프로그래밍 언어를 배운 적 있는 개발자가 파이썬 3를 빠르게 배울 수 있게 도와준다. 꼭 필요한 핵심 문법만 간략히 설명한 후, 파일 입출력, 웹 크롤러, 슬랙 봇 만들기, 메시지 큐 사용하기, 팬더스(pandas)를 이용한 데이터... '},\n  {'title': '만들면서 배우는 Git GitHub 입문 (세상의 모든 개발 코드를 공유하고 관리하는 소셜 코딩)',\n   'link': 'http://book.naver.com/bookdb/book_detail.php?bid=9415223',\n   'image': 'https://bookthumb-phinf.pstatic.net/cover/094/152/09415223.jpg?type=m1&udate=20170517',\n   'author': '<b>윤웅식</b>',\n   'price': '28000',\n   'discount': '25200',\n   'publisher': '한빛미디어',\n   'pubdate': '20150820',\n   'isbn': '8968482020 9788968482021',\n   'description': '『GIT GITHUB 입문』은 GIT과 GITHUB를 이용한 버전 관리 시스템을 다루는 방법을 배우는 입문서다. 버전 관리 시스템과 GIT 고유의 명령어 중심으로 GIT의 기본 개념 및 GIT 기반의 대표적인 원격 저장소인 GITHUB에 가입해보고 사용하는 방법을 살펴본다. 또한 개발 환경에서 많이... '}]}"
      ]
     },
     "execution_count": 2,
     "metadata": {},
     "output_type": "execute_result"
    }
   ],
   "source": [
    "url = \"https://openapi.naver.com/v1/search/book.json?\"\n",
    "client_id = \"E0tifZQ0FEHNf1l4hWlQ\"\n",
    "client_secret = \"3bVcTxfVsN\"\n",
    "q = \"query=\" + \"윤웅식\"\n",
    "headers = {\n",
    "    \"X-Naver-Client-Id\": client_id,\n",
    "    \"X-Naver-Client-secret\": client_secret\n",
    "}\n",
    "\n",
    "r = requests.get(url+q, headers=headers)\n",
    "\n",
    "# rss : 디버그를 쉽게 하고 RSS 리더기만으로 이용할 수 있게 하기 위해 만든 RSS 포맷 컨테이너\n",
    "# channel : 검색 결과를 포함하는 컨테이너\n",
    "# lastBuildDate : 검색 결과 생성 시간\n",
    "json.loads(r.text)"
   ]
  },
  {
   "cell_type": "code",
   "execution_count": null,
   "metadata": {},
   "outputs": [],
   "source": []
  }
 ],
 "metadata": {
  "kernelspec": {
   "display_name": "Python 2",
   "language": "python",
   "name": "python2"
  },
  "language_info": {
   "codemirror_mode": {
    "name": "ipython",
    "version": 2
   },
   "file_extension": ".py",
   "mimetype": "text/x-python",
   "name": "python",
   "nbconvert_exporter": "python",
   "pygments_lexer": "ipython2",
   "version": "2.7.6"
  }
 },
 "nbformat": 4,
 "nbformat_minor": 0
}
