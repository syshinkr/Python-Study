{
 "cells": [
  {
   "cell_type": "code",
   "execution_count": null,
   "metadata": {
    "collapsed": true
   },
   "outputs": [
    {
     "data": {
      "text/plain": [
       "0       m\n1       i\n2       k\n3       a\n4       n\n5       2\n6       7\n7     207\n8    2.07\ndtype: object"
      ]
     },
     "execution_count": 1,
     "metadata": {},
     "output_type": "execute_result"
    }
   ],
   "source": [
    "# 팬더스와 NumPy를 불러옴\n",
    "import pandas as pd\n",
    "import numpy as np\n",
    "\n",
    "s = pd.Series([\"m\", \"i\", \"k\", \"a\", \"n\", 2, 7, 207, 2.07])\n",
    "s"
   ]
  },
  {
   "cell_type": "code",
   "execution_count": null,
   "metadata": {},
   "outputs": [
    {
     "data": {
      "text/plain": [
       "A       m\nB       i\nC       k\nD       a\nZ       n\nX       2\nY       7\nE     207\nI    2.07\ndtype: object"
      ]
     },
     "execution_count": 2,
     "metadata": {},
     "output_type": "execute_result"
    }
   ],
   "source": [
    "s = pd.Series([\"m\", \"i\", \"k\", \"a\", \"n\", 2, 7, 207, 2.07], index=[\"A\", \"B\", \"C\", \"D\", \"Z\", \"X\", \"Y\", \"E\", \"I\"])\n",
    "s"
   ]
  },
  {
   "cell_type": "code",
   "execution_count": null,
   "metadata": {},
   "outputs": [],
   "source": [
    "# 깊이가 1인 딕셔너리 생성\n",
    "heroes_dict = {\n",
    "    'ana':200, 'bastion':300, 'dva':500,\n",
    "    'genji':200, 'hanjo':200, 'junkrat':200,\n",
    "    'lucio':200, 'macree':200, 'mei':250,\n",
    "    'mercy':200, 'pharah':200, 'reaper':250,\n",
    "    'reinhardt':500, 'roadhog':600, 'soldier76':200,\n",
    "    'symmetra':200, 'torbjorn':200, 'tracer':150,\n",
    "    'widowmaker':200, 'winston':500, 'zarya':400,\n",
    "    'zenyatta':200\n",
    "}\n",
    "\n",
    "heroes_series = pd.Series(heroes_dict)\n",
    "heroes_series"
   ]
  }
 ],
 "metadata": {
  "kernelspec": {
   "display_name": "Python 2",
   "language": "python",
   "name": "python2"
  },
  "language_info": {
   "codemirror_mode": {
    "name": "ipython",
    "version": 2
   },
   "file_extension": ".py",
   "mimetype": "text/x-python",
   "name": "python",
   "nbconvert_exporter": "python",
   "pygments_lexer": "ipython2",
   "version": "2.7.6"
  }
 },
 "nbformat": 4,
 "nbformat_minor": 0
}
